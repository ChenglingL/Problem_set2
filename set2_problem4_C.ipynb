{
 "cells": [
  {
   "cell_type": "markdown",
   "id": "ba2be842",
   "metadata": {},
   "source": [
    "# N=2"
   ]
  },
  {
   "cell_type": "code",
   "execution_count": 34,
   "id": "bf296842",
   "metadata": {},
   "outputs": [
    {
     "data": {
      "image/png": "[encoded data removed]",
      "text/plain": [
       "<Figure size 432x288 with 1 Axes>"
      ]
     },
     "metadata": {
      "needs_background": "light"
     },
     "output_type": "display_data"
    }
   ],
   "source": [
    "# importing module\n",
    "import matplotlib.pyplot as plt\n",
    "import numpy as np\n",
    "from numpy import linalg as LA\n",
    "import random\n",
    "\n",
    "del_ei = []\n",
    "mean_del = []\n",
    "N = 2\n",
    "mu=[]\n",
    "del_ei_2=[]\n",
    "\n",
    "for i in range(0,1000):\n",
    "    mu=[]\n",
    "    t=[]\n",
    "    for l in range(0,N*N):\n",
    "        q = random.randint(0, 1)\n",
    "        if (q == 0):\n",
    "            t.append(-1)\n",
    "        else:\n",
    "            t.append(1)\n",
    "    s=np.array(t).reshape((N,N))\n",
    "        \n",
    "    matrix = np.transpose(s)+s\n",
    "    for j in range(0,N):\n",
    "        mu.append(LA.eigvals(matrix)[j])\n",
    "    mu.sort()\n",
    "    for k in range(0,N-1):\n",
    "        del_ei_2.append(np.diff(mu)[k])\n",
    "mean_del.append(np.mean(del_ei_2))\n",
    "\n",
    "fig, ax = plt.subplots()\n",
    "\n",
    "num_bins=50\n",
    "# the histogram of the data\n",
    "n, bins, patches = ax.hist(del_ei_2/np.mean(del_ei_2), num_bins, density=True)\n",
    "    \n",
    "    \n",
    "\n"
   ]
  },
  {
   "cell_type": "markdown",
   "id": "5779d51a",
   "metadata": {},
   "source": [
    "# N=4"
   ]
  },
  {
   "cell_type": "code",
   "execution_count": 35,
   "id": "f07b274f",
   "metadata": {},
   "outputs": [
    {
     "data": {
      "image/png": "[encoded data removed]",
      "text/plain": [
       "<Figure size 432x288 with 1 Axes>"
      ]
     },
     "metadata": {
      "needs_background": "light"
     },
     "output_type": "display_data"
    }
   ],
   "source": [
    "# importing module\n",
    "import numpy as np\n",
    "from numpy import linalg as LA\n",
    "\n",
    "N = 4\n",
    "del_ei_4=[]\n",
    "matrix=[]\n",
    "\n",
    "for i in range(0,1000):\n",
    "    mu=[]\n",
    "    t=[]\n",
    "    for l in range(0,N*N):\n",
    "        q = random.randint(0, 1)\n",
    "        if (q == 0):\n",
    "            t.append(-1)\n",
    "        else:\n",
    "            t.append(1)\n",
    "    s=np.array(t).reshape((N,N))\n",
    "    matrix = np.transpose(s)+s\n",
    "    for j in range(0,N):\n",
    "        mu.append(LA.eigvals(matrix)[j])\n",
    "    mu.sort()\n",
    "    for k in range(0,N-1):\n",
    "        del_ei_4.append(np.diff(mu)[k])\n",
    "mean_del.append(np.mean(del_ei_4))\n",
    "\n",
    "fig, ax = plt.subplots()\n",
    "\n",
    "num_bins=50\n",
    "# the histogram of the data\n",
    "n, bins, patches = ax.hist(del_ei_4/np.mean(del_ei_4), num_bins, density=True)\n"
   ]
  },
  {
   "cell_type": "markdown",
   "id": "65cc2d09",
   "metadata": {},
   "source": [
    "# N=6"
   ]
  },
  {
   "cell_type": "code",
   "execution_count": 36,
   "id": "96f07a4b",
   "metadata": {},
   "outputs": [
    {
     "data": {
      "image/png": "[encoded data removed]",
      "text/plain": [
       "<Figure size 432x288 with 1 Axes>"
      ]
     },
     "metadata": {
      "needs_background": "light"
     },
     "output_type": "display_data"
    }
   ],
   "source": [
    "# importing module\n",
    "import numpy as np\n",
    "from numpy import linalg as LA\n",
    "\n",
    "N = 6\n",
    "del_ei_6=[]\n",
    "matrix=[]\n",
    "\n",
    "for i in range(0,1000):\n",
    "    mu=[]\n",
    "    t=[]\n",
    "    for l in range(0,N*N):\n",
    "        q = random.randint(0, 1)\n",
    "        if (q == 0):\n",
    "            t.append(-1)\n",
    "        else:\n",
    "            t.append(1)\n",
    "    s=np.array(t).reshape((N,N))\n",
    "    matrix = np.transpose(s)+s\n",
    "    for j in range(0,N):\n",
    "        mu.append(LA.eigvals(matrix)[j])\n",
    "    mu.sort()\n",
    "    for k in range(0,N-1):\n",
    "        del_ei_6.append(np.diff(mu)[k])\n",
    "mean_del.append(np.mean(del_ei_6))\n",
    "\n",
    "fig, ax = plt.subplots()\n",
    "\n",
    "num_bins=50\n",
    "# the histogram of the data\n",
    "n, bins, patches = ax.hist(del_ei_6/np.mean(del_ei_6), num_bins, density=True)"
   ]
  },
  {
   "cell_type": "markdown",
   "id": "a6d23fbc",
   "metadata": {},
   "source": [
    "# N=8"
   ]
  },
  {
   "cell_type": "code",
   "execution_count": 37,
   "id": "0de0760e",
   "metadata": {},
   "outputs": [
    {
     "name": "stderr",
     "output_type": "stream",
     "text": [
      "/opt/anaconda3/lib/python3.8/site-packages/numpy/lib/histograms.py:851: ComplexWarning: Casting complex values to real discards the imaginary part\n",
      "  indices = f_indices.astype(np.intp)\n",
      "/opt/anaconda3/lib/python3.8/site-packages/numpy/lib/histograms.py:904: ComplexWarning: Casting complex values to real discards the imaginary part\n",
      "  db = np.array(np.diff(bin_edges), float)\n",
      "/opt/anaconda3/lib/python3.8/site-packages/numpy/core/_asarray.py:102: ComplexWarning: Casting complex values to real discards the imaginary part\n",
      "  return array(a, dtype, copy=False, order=order)\n",
      "/opt/anaconda3/lib/python3.8/site-packages/matplotlib/transforms.py:1966: ComplexWarning: Casting complex values to real discards the imaginary part\n",
      "  x, y = float(x), float(y)\n"
     ]
    },
    {
     "data": {
      "image/png": "[encoded data removed]",
      "text/plain": [
       "<Figure size 432x288 with 1 Axes>"
      ]
     },
     "metadata": {
      "needs_background": "light"
     },
     "output_type": "display_data"
    }
   ],
   "source": [
    "# importing module\n",
    "import numpy as np\n",
    "from numpy import linalg as LA\n",
    "\n",
    "N = 8\n",
    "del_ei_8=[]\n",
    "matrix=[]\n",
    "\n",
    "for i in range(0,1000):\n",
    "    mu=[]\n",
    "    t=[]\n",
    "    for l in range(0,N*N):\n",
    "        q = random.randint(0, 1)\n",
    "        if (q == 0):\n",
    "            t.append(-1)\n",
    "        else:\n",
    "            t.append(1)\n",
    "    s=np.array(t).reshape((N,N))\n",
    "    matrix = np.transpose(s)+s\n",
    "    for j in range(0,N):\n",
    "        mu.append(LA.eigvals(matrix)[j])\n",
    "    mu.sort()\n",
    "    for k in range(0,N-1):\n",
    "        del_ei_8.append(np.diff(mu)[k])\n",
    "mean_del.append(np.mean(del_ei_8))\n",
    "\n",
    "fig, ax = plt.subplots()\n",
    "\n",
    "num_bins=50\n",
    "# the histogram of the data\n",
    "n, bins, patches = ax.hist(del_ei_8/np.mean(del_ei_8), num_bins, density=True)"
   ]
  },
  {
   "cell_type": "markdown",
   "id": "0d58b17e",
   "metadata": {},
   "source": [
    "# N=10"
   ]
  },
  {
   "cell_type": "code",
   "execution_count": 38,
   "id": "83b0ec6e",
   "metadata": {},
   "outputs": [
    {
     "data": {
      "image/png": "[encoded data removed]",
      "text/plain": [
       "<Figure size 432x288 with 1 Axes>"
      ]
     },
     "metadata": {
      "needs_background": "light"
     },
     "output_type": "display_data"
    }
   ],
   "source": [
    "# importing module\n",
    "import numpy as np\n",
    "from numpy import linalg as LA\n",
    "\n",
    "N = 10\n",
    "del_ei_10=[]\n",
    "matrix=[]\n",
    "\n",
    "for i in range(0,1000):\n",
    "    mu=[]\n",
    "    t=[]\n",
    "    for l in range(0,N*N):\n",
    "        q = random.randint(0, 1)\n",
    "        if (q == 0):\n",
    "            t.append(-1)\n",
    "        else:\n",
    "            t.append(1)\n",
    "    s=np.array(t).reshape((N,N))\n",
    "    matrix = np.transpose(s)+s\n",
    "    for j in range(0,N):\n",
    "        mu.append(LA.eigvals(matrix)[j])\n",
    "    mu.sort()\n",
    "    for k in range(0,N-1):\n",
    "        del_ei_10.append(np.diff(mu)[k])\n",
    "mean_del.append(np.mean(del_ei_10))\n",
    "\n",
    "fig, ax = plt.subplots()\n",
    "\n",
    "num_bins=50\n",
    "# the histogram of the data\n",
    "n, bins, patches = ax.hist(del_ei_10/np.mean(del_ei_10), num_bins, density=True)"
   ]
  },
  {
   "cell_type": "markdown",
   "id": "c1b18b17",
   "metadata": {},
   "source": [
    "# <∆ λ> ~ N"
   ]
  },
  {
   "cell_type": "code",
   "execution_count": 39,
   "id": "b0e3f0ce",
   "metadata": {},
   "outputs": [
    {
     "name": "stderr",
     "output_type": "stream",
     "text": [
      "/opt/anaconda3/lib/python3.8/site-packages/numpy/core/_asarray.py:171: ComplexWarning: Casting complex values to real discards the imaginary part\n",
      "  return array(a, dtype, copy=False, order=order, subok=True)\n"
     ]
    },
    {
     "data": {
      "text/plain": [
       "<matplotlib.collections.PathCollection at 0x7fac504f6790>"
      ]
     },
     "execution_count": 39,
     "metadata": {},
     "output_type": "execute_result"
    },
    {
     "data": {
      "image/png": "[encoded data removed]",
      "text/plain": [
       "<Figure size 432x288 with 1 Axes>"
      ]
     },
     "metadata": {
      "needs_background": "light"
     },
     "output_type": "display_data"
    }
   ],
   "source": [
    "import matplotlib.pyplot as plt\n",
    "plt.scatter((2,4,6,8,10),mean_del)\n"
   ]
  },
  {
   "cell_type": "markdown",
   "id": "1d4b6eee",
   "metadata": {},
   "source": [
    "# ignore the symmetrization"
   ]
  },
  {
   "cell_type": "code",
   "execution_count": 223,
   "id": "ed8cd6cf",
   "metadata": {},
   "outputs": [
    {
     "data": {
      "image/png": "[encoded data removed]",
      "text/plain": [
       "<Figure size 432x288 with 1 Axes>"
      ]
     },
     "metadata": {
      "needs_background": "light"
     },
     "output_type": "display_data"
    }
   ],
   "source": [
    "# importing module\n",
    "import matplotlib.pyplot as plt\n",
    "import numpy as np\n",
    "from numpy import linalg as LA\n",
    "\n",
    "N = 2\n",
    "mu=[]\n",
    "as_del_ei_2=[]\n",
    "\n",
    "for i in range(0,1000):\n",
    "    mu=[]\n",
    "    s = np.random.normal(0, 1, N*N).reshape((N, N))\n",
    "    matrix = np.transpose(s)+s\n",
    "    for j in range(0,N):\n",
    "        mu.append(LA.eigvals(matrix)[j])\n",
    "    mu.sort()\n",
    "    for k in range(0,N-1):\n",
    "        as_del_ei_2.append(np.diff(mu)[k])\n",
    "\n",
    "\n",
    "fig, ax = plt.subplots()\n",
    "\n",
    "num_bins=50\n",
    "# the histogram of the data\n",
    "n, bins, patches = ax.hist(as_del_ei_2/np.mean(as_del_ei_2), num_bins, density=True)\n",
    "    "
   ]
  },
  {
   "cell_type": "code",
   "execution_count": null,
   "id": "bd3076f9",
   "metadata": {},
   "outputs": [],
   "source": []
  }
 ],
 "metadata": {
  "kernelspec": {
   "display_name": "Python 3",
   "language": "python",
   "name": "python3"
  },
  "language_info": {
   "codemirror_mode": {
    "name": "ipython",
    "version": 3
   },
   "file_extension": ".py",
   "mimetype": "text/x-python",
   "name": "python",
   "nbconvert_exporter": "python",
   "pygments_lexer": "ipython3",
   "version": "3.8.8"
  }
 },
 "nbformat": 4,
 "nbformat_minor": 5
}
