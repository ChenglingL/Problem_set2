{
 "cells": [
  {
   "cell_type": "markdown",
   "id": "61d06f10",
   "metadata": {},
   "source": [
    "# N=2"
   ]
  },
  {
   "cell_type": "code",
   "execution_count": 217,
   "id": "0af2d27a",
   "metadata": {},
   "outputs": [
    {
     "data": {
      "image/png": "[encoded data removed]",
      "text/plain": [
       "<Figure size 432x288 with 1 Axes>"
      ]
     },
     "metadata": {
      "needs_background": "light"
     },
     "output_type": "display_data"
    }
   ],
   "source": [
    "# importing module\n",
    "import matplotlib.pyplot as plt\n",
    "import numpy as np\n",
    "from numpy import linalg as LA\n",
    "\n",
    "del_ei = []\n",
    "mean_del = []\n",
    "N = 2\n",
    "mu=[]\n",
    "del_ei_2=[]\n",
    "\n",
    "for i in range(0,1000):\n",
    "    mu=[]\n",
    "    s = np.random.normal(0, 1, N*N).reshape((N, N))\n",
    "    matrix = np.transpose(s)+s\n",
    "    for j in range(0,N):\n",
    "        mu.append(LA.eigvals(matrix)[j])\n",
    "    mu.sort()\n",
    "    for k in range(0,N-1):\n",
    "        del_ei_2.append(np.diff(mu)[k])\n",
    "mean_del.append(np.mean(del_ei_2))\n",
    "\n",
    "fig, ax = plt.subplots()\n",
    "\n",
    "num_bins=50\n",
    "# the histogram of the data\n",
    "n, bins, patches = ax.hist(del_ei_2/np.mean(del_ei_2), num_bins, density=True)\n",
    "    \n",
    "    \n",
    "\n"
   ]
  },
  {
   "cell_type": "markdown",
   "id": "57f25ef7",
   "metadata": {},
   "source": [
    "# N=4"
   ]
  },
  {
   "cell_type": "code",
   "execution_count": 218,
   "id": "e8d3d0d9",
   "metadata": {},
   "outputs": [
    {
     "data": {
      "image/png": "[encoded data removed]",
      "text/plain": [
       "<Figure size 432x288 with 1 Axes>"
      ]
     },
     "metadata": {
      "needs_background": "light"
     },
     "output_type": "display_data"
    }
   ],
   "source": [
    "# importing module\n",
    "import numpy as np\n",
    "from numpy import linalg as LA\n",
    "\n",
    "N = 4\n",
    "del_ei_4=[]\n",
    "matrix=[]\n",
    "\n",
    "for i in range(0,1000):\n",
    "    mu=[]\n",
    "    s = np.random.normal(0, 1, N*N).reshape((N, N))\n",
    "    matrix = np.transpose(s)+s\n",
    "    for j in range(0,N):\n",
    "        mu.append(LA.eigvals(matrix)[j])\n",
    "    mu.sort()\n",
    "    for k in range(0,N-1):\n",
    "        del_ei_4.append(np.diff(mu)[k])\n",
    "mean_del.append(np.mean(del_ei_4))\n",
    "\n",
    "fig, ax = plt.subplots()\n",
    "\n",
    "num_bins=50\n",
    "# the histogram of the data\n",
    "n, bins, patches = ax.hist(del_ei_4/np.mean(del_ei_4), num_bins, density=True)\n"
   ]
  },
  {
   "cell_type": "markdown",
   "id": "dee55ee8",
   "metadata": {},
   "source": [
    "# N=6"
   ]
  },
  {
   "cell_type": "code",
   "execution_count": 219,
   "id": "6d96d98f",
   "metadata": {},
   "outputs": [
    {
     "data": {
      "image/png": "[encoded data removed]",
      "text/plain": [
       "<Figure size 432x288 with 1 Axes>"
      ]
     },
     "metadata": {
      "needs_background": "light"
     },
     "output_type": "display_data"
    }
   ],
   "source": [
    "# importing module\n",
    "import numpy as np\n",
    "from numpy import linalg as LA\n",
    "\n",
    "N = 6\n",
    "del_ei_6=[]\n",
    "matrix=[]\n",
    "\n",
    "for i in range(0,1000):\n",
    "    mu=[]\n",
    "    s = np.random.normal(0, 1, N*N).reshape((N, N))\n",
    "    matrix = np.transpose(s)+s\n",
    "    for j in range(0,N):\n",
    "        mu.append(LA.eigvals(matrix)[j])\n",
    "    mu.sort()\n",
    "    for k in range(0,N-1):\n",
    "        del_ei_6.append(np.diff(mu)[k])\n",
    "mean_del.append(np.mean(del_ei_6))\n",
    "\n",
    "fig, ax = plt.subplots()\n",
    "\n",
    "num_bins=50\n",
    "# the histogram of the data\n",
    "n, bins, patches = ax.hist(del_ei_6/np.mean(del_ei_6), num_bins, density=True)"
   ]
  },
  {
   "cell_type": "markdown",
   "id": "ab7a1991",
   "metadata": {},
   "source": [
    "# N=8"
   ]
  },
  {
   "cell_type": "code",
   "execution_count": 220,
   "id": "964acfc9",
   "metadata": {},
   "outputs": [
    {
     "data": {
      "image/png": "[encoded data removed]",
      "text/plain": [
       "<Figure size 432x288 with 1 Axes>"
      ]
     },
     "metadata": {
      "needs_background": "light"
     },
     "output_type": "display_data"
    }
   ],
   "source": [
    "# importing module\n",
    "import numpy as np\n",
    "from numpy import linalg as LA\n",
    "\n",
    "N = 8\n",
    "del_ei_8=[]\n",
    "matrix=[]\n",
    "\n",
    "for i in range(0,1000):\n",
    "    mu=[]\n",
    "    s = np.random.normal(0, 1, N*N).reshape((N, N))\n",
    "    matrix = np.transpose(s)+s\n",
    "    for j in range(0,N):\n",
    "        mu.append(LA.eigvals(matrix)[j])\n",
    "    mu.sort()\n",
    "    for k in range(0,N-1):\n",
    "        del_ei_8.append(np.diff(mu)[k])\n",
    "mean_del.append(np.mean(del_ei_8))\n",
    "\n",
    "fig, ax = plt.subplots()\n",
    "\n",
    "num_bins=50\n",
    "# the histogram of the data\n",
    "n, bins, patches = ax.hist(del_ei_8/np.mean(del_ei_8), num_bins, density=True)"
   ]
  },
  {
   "cell_type": "markdown",
   "id": "ba21155f",
   "metadata": {},
   "source": [
    "# N=10"
   ]
  },
  {
   "cell_type": "code",
   "execution_count": 221,
   "id": "b3f72fef",
   "metadata": {},
   "outputs": [
    {
     "data": {
      "image/png": "[encoded data removed]",
      "text/plain": [
       "<Figure size 432x288 with 1 Axes>"
      ]
     },
     "metadata": {
      "needs_background": "light"
     },
     "output_type": "display_data"
    }
   ],
   "source": [
    "# importing module\n",
    "import numpy as np\n",
    "from numpy import linalg as LA\n",
    "\n",
    "N = 10\n",
    "del_ei_10=[]\n",
    "matrix=[]\n",
    "\n",
    "for i in range(0,1000):\n",
    "    mu=[]\n",
    "    s = np.random.normal(0, 1, N*N).reshape((N, N))\n",
    "    matrix = np.transpose(s)+s\n",
    "    for j in range(0,N):\n",
    "        mu.append(LA.eigvals(matrix)[j])\n",
    "    mu.sort()\n",
    "    for k in range(0,N-1):\n",
    "        del_ei_10.append(np.diff(mu)[k])\n",
    "mean_del.append(np.mean(del_ei_10))\n",
    "\n",
    "fig, ax = plt.subplots()\n",
    "\n",
    "num_bins=50\n",
    "# the histogram of the data\n",
    "n, bins, patches = ax.hist(del_ei_10/np.mean(del_ei_10), num_bins, density=True)"
   ]
  },
  {
   "cell_type": "markdown",
   "id": "5caed323",
   "metadata": {},
   "source": [
    "# <∆ λ> ~ N"
   ]
  },
  {
   "cell_type": "code",
   "execution_count": 222,
   "id": "af0de6a6",
   "metadata": {},
   "outputs": [
    {
     "data": {
      "text/plain": [
       "<matplotlib.collections.PathCollection at 0x7fa64963a160>"
      ]
     },
     "execution_count": 222,
     "metadata": {},
     "output_type": "execute_result"
    },
    {
     "data": {
      "image/png": "[encoded data removed]",
      "text/plain": [
       "<Figure size 432x288 with 1 Axes>"
      ]
     },
     "metadata": {
      "needs_background": "light"
     },
     "output_type": "display_data"
    }
   ],
   "source": [
    "import matplotlib.pyplot as plt\n",
    "plt.scatter((2,4,6,8,10),mean_del)\n"
   ]
  },
  {
   "cell_type": "markdown",
   "id": "200058c2",
   "metadata": {},
   "source": [
    "# ignore the symmetrization"
   ]
  },
  {
   "cell_type": "code",
   "execution_count": 223,
   "id": "eadf6c2d",
   "metadata": {},
   "outputs": [
    {
     "data": {
      "image/png": "[encoded data removed]",
      "text/plain": [
       "<Figure size 432x288 with 1 Axes>"
      ]
     },
     "metadata": {
      "needs_background": "light"
     },
     "output_type": "display_data"
    }
   ],
   "source": [
    "# importing module\n",
    "import matplotlib.pyplot as plt\n",
    "import numpy as np\n",
    "from numpy import linalg as LA\n",
    "\n",
    "N = 2\n",
    "mu=[]\n",
    "as_del_ei_2=[]\n",
    "\n",
    "for i in range(0,1000):\n",
    "    mu=[]\n",
    "    s = np.random.normal(0, 1, N*N).reshape((N, N))\n",
    "    matrix = np.transpose(s)+s\n",
    "    for j in range(0,N):\n",
    "        mu.append(LA.eigvals(matrix)[j])\n",
    "    mu.sort()\n",
    "    for k in range(0,N-1):\n",
    "        as_del_ei_2.append(np.diff(mu)[k])\n",
    "\n",
    "\n",
    "fig, ax = plt.subplots()\n",
    "\n",
    "num_bins=50\n",
    "# the histogram of the data\n",
    "n, bins, patches = ax.hist(as_del_ei_2/np.mean(as_del_ei_2), num_bins, density=True)\n",
    "    "
   ]
  },
  {
   "cell_type": "code",
   "execution_count": null,
   "id": "0b88992b",
   "metadata": {},
   "outputs": [],
   "source": []
  }
 ],
 "metadata": {
  "kernelspec": {
   "display_name": "Python 3",
   "language": "python",
   "name": "python3"
  },
  "language_info": {
   "codemirror_mode": {
    "name": "ipython",
    "version": 3
   },
   "file_extension": ".py",
   "mimetype": "text/x-python",
   "name": "python",
   "nbconvert_exporter": "python",
   "pygments_lexer": "ipython3",
   "version": "3.8.8"
  }
 },
 "nbformat": 4,
 "nbformat_minor": 5
}
